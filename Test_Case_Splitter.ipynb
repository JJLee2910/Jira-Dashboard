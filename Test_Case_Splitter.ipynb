{
 "cells": [
  {
   "cell_type": "code",
   "execution_count": 15,
   "metadata": {},
   "outputs": [
    {
     "name": "stdout",
     "output_type": "stream",
     "text": [
      "Splitting complete\n"
     ]
    }
   ],
   "source": [
    "import pandas as pd\n",
    "from openpyxl import load_workbook, Workbook\n",
    "from openpyxl.styles import NamedStyle, Border, Side\n",
    "\n",
    "class TestCaseSplitter:\n",
    "    def __init__(self, input_file):\n",
    "        self.input_file = input_file\n",
    "        self.df = pd.read_excel(input_file)\n",
    "        self.original_wb = load_workbook(input_file)\n",
    "        self.original_ws = self.original_wb.active\n",
    "\n",
    "    def create_header_style(self):\n",
    "        header_style = NamedStyle(name=\"header_style\")\n",
    "        header_style.font.bold = True\n",
    "        header_style.border = self.get_all_border_style()\n",
    "        return header_style\n",
    "\n",
    "    def get_all_border_style(self):\n",
    "        return Border(\n",
    "            left=Side(border_style='thin', color='000000'),\n",
    "            right=Side(border_style='thin', color='000000'),\n",
    "            top=Side(border_style='thin', color='000000'),\n",
    "            bottom=Side(border_style='thin', color='000000')\n",
    "        )\n",
    "\n",
    "    def create_header_workbook(self):\n",
    "        header_wb = Workbook()\n",
    "        header_ws = header_wb.active\n",
    "        header_style = self.create_header_style()\n",
    "\n",
    "        for col_num, header in enumerate(self.df.columns, start=1):\n",
    "            header_ws.cell(row=1, column=col_num, value=header).style = header_style\n",
    "\n",
    "        header_wb.save('header.xlsx')\n",
    "\n",
    "    def create_splitted_workbooks(self):\n",
    "        header_style = self.create_header_style()\n",
    "\n",
    "        for index, row in self.df.iterrows():\n",
    "            wb = Workbook()\n",
    "            ws = wb.active\n",
    "            data_border = self.get_all_border_style()\n",
    "\n",
    "            for col_num, header in enumerate(self.df.columns, start=1):\n",
    "                ws.cell(row=1, column=col_num, value=header).style = header_style\n",
    "\n",
    "            for col_num, cell_value in enumerate(row, start=1):\n",
    "                cell = ws.cell(row=2, column=col_num, value=cell_value)\n",
    "                cell.border = data_border\n",
    "\n",
    "            output_file = f'test_case_{index + 1}.xlsx'\n",
    "            wb.save(output_file)\n",
    "\n",
    "        print(\"Splitting complete\")\n",
    "\n",
    "# Usage\n",
    "if __name__ == \"__main__\":\n",
    "    input_file = 'test cases.xlsx'\n",
    "    splitter = TestCaseSplitter(input_file)\n",
    "    splitter.create_header_workbook()\n",
    "    splitter.create_splitted_workbooks()\n"
   ]
  }
 ],
 "metadata": {
  "kernelspec": {
   "display_name": "JJ",
   "language": "python",
   "name": "python3"
  },
  "language_info": {
   "codemirror_mode": {
    "name": "ipython",
    "version": 3
   },
   "file_extension": ".py",
   "mimetype": "text/x-python",
   "name": "python",
   "nbconvert_exporter": "python",
   "pygments_lexer": "ipython3",
   "version": "3.10.6"
  },
  "orig_nbformat": 4
 },
 "nbformat": 4,
 "nbformat_minor": 2
}
