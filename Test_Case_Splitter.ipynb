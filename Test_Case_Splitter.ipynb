{
 "cells": [
  {
   "cell_type": "code",
   "execution_count": 1,
   "metadata": {},
   "outputs": [
    {
     "name": "stdout",
     "output_type": "stream",
     "text": [
      "Splitting complete.\n"
     ]
    }
   ],
   "source": [
    "import pandas as pd\n",
    "from openpyxl import Workbook\n",
    "\n",
    "# Load your Excel file with 1000+ rows of test cases\n",
    "input_file = 'test cases.xlsx'\n",
    "df = pd.read_excel(input_file)\n",
    "\n",
    "# Iterate through each row and create a new Excel file for each row\n",
    "for index, row in df.iterrows():\n",
    "    # Create a new Excel workbook\n",
    "    wb = Workbook()\n",
    "    \n",
    "    # Create a new sheet in the workbook\n",
    "    ws = wb.active\n",
    "    \n",
    "    # Write the data from the current row to the sheet\n",
    "    for col_num, cell_value in enumerate(row):\n",
    "        # Excel uses 1-based indexing for rows and columns\n",
    "        ws.cell(row=1, column=col_num + 1, value=cell_value)\n",
    "    \n",
    "    # Save the new Excel file with a unique name (e.g., test_case_1.xlsx, test_case_2.xlsx, ...)\n",
    "    output_file = f'test_case_{index + 1}.xlsx'\n",
    "    wb.save(output_file)\n",
    "\n",
    "print(\"Splitting complete.\")\n"
   ]
  }
 ],
 "metadata": {
  "kernelspec": {
   "display_name": "JJ",
   "language": "python",
   "name": "python3"
  },
  "language_info": {
   "codemirror_mode": {
    "name": "ipython",
    "version": 3
   },
   "file_extension": ".py",
   "mimetype": "text/x-python",
   "name": "python",
   "nbconvert_exporter": "python",
   "pygments_lexer": "ipython3",
   "version": "3.10.6"
  },
  "orig_nbformat": 4
 },
 "nbformat": 4,
 "nbformat_minor": 2
}
